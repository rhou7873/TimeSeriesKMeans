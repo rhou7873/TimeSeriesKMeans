{
 "cells": [
  {
   "cell_type": "markdown",
   "metadata": {},
   "source": [
    "# Dummy Data Generator"
   ]
  },
  {
   "cell_type": "markdown",
   "metadata": {},
   "source": [
    "*Scripts to help generate dummy data simulating different\n",
    "events coming in at various timestamped intervals*"
   ]
  },
  {
   "cell_type": "markdown",
   "metadata": {},
   "source": [
    "### Imports"
   ]
  },
  {
   "cell_type": "code",
   "execution_count": 1,
   "metadata": {},
   "outputs": [],
   "source": [
    "import csv\n",
    "from datetime import datetime, timedelta \n",
    "import random"
   ]
  },
  {
   "cell_type": "markdown",
   "metadata": {},
   "source": [
    "### Class Definitions"
   ]
  },
  {
   "cell_type": "code",
   "execution_count": 2,
   "metadata": {},
   "outputs": [],
   "source": [
    "class Event:\n",
    "    def __init__(\n",
    "            self, \n",
    "            process_date: datetime,\n",
    "            event_name: str,\n",
    "            customer_id: int,\n",
    "            delivery_addr: str\n",
    "        ) -> None:\n",
    "        self.process_date: datetime = process_date\n",
    "        self.event_name: str = event_name\n",
    "        self.customer_id: int = customer_id\n",
    "        self.delivery_addr: str = delivery_addr\n",
    "\n",
    "    def __str__(self) -> str:\n",
    "       return (\"Event: { \"\n",
    "                    f\"process_date: datetime({self.process_date}), \"\n",
    "                    f\"event_name: '{self.event_name}', \"\n",
    "                    f\"customer_id: {self.customer_id}, \"\n",
    "                    f\"delivery_addr: '{self.delivery_addr}' \"\n",
    "                \"}\")\n",
    "\n",
    "\n",
    "class EventGenerator:\n",
    "    def __init__(\n",
    "            self,\n",
    "            event_name: str,\n",
    "            interval: float,\n",
    "            count: int,\n",
    "            id: int\n",
    "        ) -> None:\n",
    "        events = []\n",
    "\n",
    "        curr_datetime = datetime.now()\n",
    "        base_datetime = curr_datetime\n",
    "        for _ in range(count):\n",
    "            events.append(Event(\n",
    "                process_date=curr_datetime,\n",
    "                event_name=event_name,\n",
    "                customer_id=id,\n",
    "                delivery_addr=f\"{id}@gmail.com\"\n",
    "            ))\n",
    "            # eps = (random.randint(0, 2000) - 1000) / 1000 # add some variability in timing intervals\n",
    "            eps = 0\n",
    "            curr_datetime = base_datetime - timedelta(seconds=interval+eps)\n",
    "            base_datetime -= timedelta(seconds=interval)\n",
    "\n",
    "        self.__events = events\n",
    "        self.event_name = event_name\n",
    "        self.interval = interval\n",
    "        self.count = count\n",
    "        self.id = id\n",
    "\n",
    "    def __str__(self) -> str:\n",
    "       return (\"EventGenerator: { \"\n",
    "                    f\"event_name: '{self.event_name}', \"\n",
    "                    f\"interval: {self.interval}, \"\n",
    "                    f\"count: {self.count}, \"\n",
    "                    f\"id: {self.id} \"\n",
    "                \"}\")\n",
    "\n",
    "    def get_events(self) -> list[Event]:\n",
    "        return self.__events"
   ]
  },
  {
   "cell_type": "markdown",
   "metadata": {},
   "source": [
    "### Generate Data Into CSV"
   ]
  },
  {
   "cell_type": "code",
   "execution_count": 3,
   "metadata": {},
   "outputs": [],
   "source": [
    "events = [\n",
    "    EventGenerator(event_name=\"A\", interval=random.randint(60*60,60*60*24*7), count=random.randint(100,900), id=random.randint(4732,4745)),\n",
    "    EventGenerator(event_name=\"A\", interval=random.randint(60*60,60*60*24*7), count=random.randint(100,900), id=random.randint(4732,4745)),\n",
    "    EventGenerator(event_name=\"B\", interval=random.randint(60*60,60*60*24*7), count=random.randint(100,900), id=random.randint(4732,4745)),\n",
    "    EventGenerator(event_name=\"B\", interval=random.randint(60*60,60*60*24*7), count=random.randint(100,900), id=random.randint(4732,4745)),\n",
    "    EventGenerator(event_name=\"C\", interval=random.randint(60*60,60*60*24*7), count=random.randint(100,900), id=random.randint(4732,4745)),\n",
    "    EventGenerator(event_name=\"C\", interval=random.randint(60*60,60*60*24*7), count=random.randint(100,900), id=random.randint(4732,4745)),\n",
    "    EventGenerator(event_name=\"D\", interval=random.randint(60*60,60*60*24*7), count=random.randint(100,900), id=random.randint(4732,4745)),\n",
    "    EventGenerator(event_name=\"D\", interval=random.randint(60*60,60*60*24*7), count=random.randint(100,900), id=random.randint(4732,4745)),\n",
    "    EventGenerator(event_name=\"E\", interval=random.randint(60*60,60*60*24*7), count=random.randint(100,900), id=random.randint(4732,4745)),\n",
    "    EventGenerator(event_name=\"E\", interval=random.randint(60*60,60*60*24*7), count=random.randint(100,900), id=random.randint(4732,4745)),\n",
    "    EventGenerator(event_name=\"F\", interval=random.randint(60*60,60*60*24*7), count=random.randint(100,900), id=random.randint(4732,4745)),\n",
    "    EventGenerator(event_name=\"F\", interval=random.randint(60*60,60*60*24*7), count=random.randint(100,900), id=random.randint(4732,4745)),\n",
    "    EventGenerator(event_name=\"G\", interval=random.randint(60*60,60*60*24*7), count=random.randint(100,900), id=random.randint(4732,4745)),\n",
    "    EventGenerator(event_name=\"G\", interval=random.randint(60*60,60*60*24*7), count=random.randint(100,900), id=random.randint(4732,4745)),\n",
    "    EventGenerator(event_name=\"H\", interval=random.randint(60*60,60*60*24*7), count=random.randint(100,900), id=random.randint(4732,4745)),\n",
    "    EventGenerator(event_name=\"H\", interval=random.randint(60*60,60*60*24*7), count=random.randint(100,900), id=random.randint(4732,4745)),\n",
    "    EventGenerator(event_name=\"I\", interval=random.randint(60*60,60*60*24*7), count=random.randint(100,900), id=random.randint(4732,4745)),\n",
    "    EventGenerator(event_name=\"I\", interval=random.randint(60*60,60*60*24*7), count=random.randint(100,900), id=random.randint(4732,4745)),\n",
    "    EventGenerator(event_name=\"J\", interval=random.randint(60*60,60*60*24*7), count=random.randint(100,900), id=random.randint(4732,4745)),\n",
    "    EventGenerator(event_name=\"J\", interval=random.randint(60*60,60*60*24*7), count=random.randint(100,900), id=random.randint(4732,4745)),\n",
    "    EventGenerator(event_name=\"K\", interval=random.randint(60*60,60*60*24*7), count=random.randint(100,900), id=random.randint(4732,4745)),\n",
    "    EventGenerator(event_name=\"K\", interval=random.randint(60*60,60*60*24*7), count=random.randint(100,900), id=random.randint(4732,4745)),\n",
    "    EventGenerator(event_name=\"L\", interval=random.randint(60*60,60*60*24*7), count=random.randint(100,900), id=random.randint(4732,4745)),\n",
    "    EventGenerator(event_name=\"L\", interval=random.randint(60*60,60*60*24*7), count=random.randint(100,900), id=random.randint(4732,4745)),\n",
    "    EventGenerator(event_name=\"M\", interval=random.randint(60*60,60*60*24*7), count=random.randint(100,900), id=random.randint(4732,4745)),\n",
    "    EventGenerator(event_name=\"M\", interval=random.randint(60*60,60*60*24*7), count=random.randint(100,900), id=random.randint(4732,4745)),\n",
    "    EventGenerator(event_name=\"N\", interval=random.randint(60*60,60*60*24*7), count=random.randint(100,900), id=random.randint(4732,4745)),\n",
    "    EventGenerator(event_name=\"N\", interval=random.randint(60*60,60*60*24*7), count=random.randint(100,900), id=random.randint(4732,4745)),\n",
    "    EventGenerator(event_name=\"O\", interval=random.randint(60*60,60*60*24*7), count=random.randint(100,900), id=random.randint(4732,4745)),\n",
    "    EventGenerator(event_name=\"O\", interval=random.randint(60*60,60*60*24*7), count=random.randint(100,900), id=random.randint(4732,4745)),\n",
    "    EventGenerator(event_name=\"P\", interval=random.randint(60*60,60*60*24*7), count=random.randint(100,900), id=random.randint(4732,4745)),\n",
    "    EventGenerator(event_name=\"P\", interval=random.randint(60*60,60*60*24*7), count=random.randint(100,900), id=random.randint(4732,4745)),\n",
    "    EventGenerator(event_name=\"Q\", interval=random.randint(60*60,60*60*24*7), count=random.randint(100,900), id=random.randint(4732,4745)),\n",
    "    EventGenerator(event_name=\"Q\", interval=random.randint(60*60,60*60*24*7), count=random.randint(100,900), id=random.randint(4732,4745)),\n",
    "    EventGenerator(event_name=\"R\", interval=random.randint(60*60,60*60*24*7), count=random.randint(100,900), id=random.randint(4732,4745)),\n",
    "    EventGenerator(event_name=\"R\", interval=random.randint(60*60,60*60*24*7), count=random.randint(100,900), id=random.randint(4732,4745)),\n",
    "    EventGenerator(event_name=\"S\", interval=random.randint(60*60,60*60*24*7), count=random.randint(100,900), id=random.randint(4732,4745)),\n",
    "    EventGenerator(event_name=\"S\", interval=random.randint(60*60,60*60*24*7), count=random.randint(100,900), id=random.randint(4732,4745)),\n",
    "    EventGenerator(event_name=\"T\", interval=random.randint(60*60,60*60*24*7), count=random.randint(100,900), id=random.randint(4732,4745)),\n",
    "    EventGenerator(event_name=\"T\", interval=random.randint(60*60,60*60*24*7), count=random.randint(100,900), id=random.randint(4732,4745)),\n",
    "    EventGenerator(event_name=\"U\", interval=random.randint(60*60,60*60*24*7), count=random.randint(100,900), id=random.randint(4732,4745)),\n",
    "    EventGenerator(event_name=\"U\", interval=random.randint(60*60,60*60*24*7), count=random.randint(100,900), id=random.randint(4732,4745)),\n",
    "    EventGenerator(event_name=\"V\", interval=random.randint(60*60,60*60*24*7), count=random.randint(100,900), id=random.randint(4732,4745)),\n",
    "    EventGenerator(event_name=\"V\", interval=random.randint(60*60,60*60*24*7), count=random.randint(100,900), id=random.randint(4732,4745)),\n",
    "    EventGenerator(event_name=\"W\", interval=random.randint(60*60,60*60*24*7), count=random.randint(100,900), id=random.randint(4732,4745)),\n",
    "    EventGenerator(event_name=\"W\", interval=random.randint(60*60,60*60*24*7), count=random.randint(100,900), id=random.randint(4732,4745)),\n",
    "    EventGenerator(event_name=\"X\", interval=random.randint(60*60,60*60*24*7), count=random.randint(100,900), id=random.randint(4732,4745)),\n",
    "    EventGenerator(event_name=\"X\", interval=random.randint(60*60,60*60*24*7), count=random.randint(100,900), id=random.randint(4732,4745)),\n",
    "    EventGenerator(event_name=\"Y\", interval=random.randint(60*60,60*60*24*7), count=random.randint(100,900), id=random.randint(4732,4745)),\n",
    "    EventGenerator(event_name=\"Y\", interval=random.randint(60*60,60*60*24*7), count=random.randint(100,900), id=random.randint(4732,4745)),\n",
    "    EventGenerator(event_name=\"Z\", interval=random.randint(60*60,60*60*24*7), count=random.randint(100,900), id=random.randint(4732,4745)),\n",
    "    EventGenerator(event_name=\"Z\", interval=random.randint(60*60,60*60*24*7), count=random.randint(100,900), id=random.randint(4732,4745))\n",
    "]\n",
    "\n",
    "def generate_data(generators: list[EventGenerator]) -> None:\n",
    "    with open(\"data.csv\", \"+w\") as file:\n",
    "        writer = csv.writer(file)\n",
    "        writer.writerow([\"process_date\", \"name\", \"id\", \"delivery_addr\"])\n",
    "        for generator in generators:\n",
    "            for event in generator.get_events():\n",
    "                row = [\n",
    "                    event.process_date,\n",
    "                    event.event_name,\n",
    "                    event.customer_id,\n",
    "                    event.delivery_addr\n",
    "                ]\n",
    "                writer.writerow(row)\n",
    "\n",
    "def save_generators(generators: list[EventGenerator]) -> None:\n",
    "    with open(\"clusters.txt\", \"+w\") as file:\n",
    "        for generator in generators:\n",
    "            file.write(f\"{generator}\\n\")\n",
    "\n",
    "generate_data(events)\n",
    "save_generators(events)"
   ]
  }
 ],
 "metadata": {
  "kernelspec": {
   "display_name": "ml",
   "language": "python",
   "name": "python3"
  },
  "language_info": {
   "codemirror_mode": {
    "name": "ipython",
    "version": 3
   },
   "file_extension": ".py",
   "mimetype": "text/x-python",
   "name": "python",
   "nbconvert_exporter": "python",
   "pygments_lexer": "ipython3",
   "version": "3.12.1"
  }
 },
 "nbformat": 4,
 "nbformat_minor": 2
}
